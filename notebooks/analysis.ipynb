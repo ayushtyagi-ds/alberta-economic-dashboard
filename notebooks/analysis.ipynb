{
 "cells": [
  {
   "cell_type": "markdown",
   "id": "4ad2ae8c",
   "metadata": {},
   "source": [
    "# Alberta Economic Dashboard- Analysis\n",
    "### Initial Exploration of Alberta oil price trends and key indicators"
   ]
  },
  {
   "cell_type": "markdown",
   "id": "066700b2",
   "metadata": {},
   "source": [
    "### First Dataset will be Albeta Oil trends \n",
    "Using yfinance API to fetch the updated oil prices\n",
    "Import the yfinance \n",
    "fetch the oil data using Ticker class \n",
    "\n"
   ]
  },
  {
   "cell_type": "code",
   "execution_count": 1,
   "id": "9a199906",
   "metadata": {},
   "outputs": [
    {
     "name": "stderr",
     "output_type": "stream",
     "text": [
      "Matplotlib is building the font cache; this may take a moment.\n"
     ]
    }
   ],
   "source": [
    "import yfinance as yf\n",
    "import pandas as pd\n",
    "import matplotlib.pyplot as plt\n",
    "\n",
    "# Fetch historical oil price data for WTI Crude Oil\n",
    "oil = yf.Ticker(\"CL=F\")\n",
    "df_oil = oil.history(period=\"5y\")  # Last 5 years of data\n",
    "df_oil.reset_index(inplace=True)"
   ]
  },
  {
   "cell_type": "markdown",
   "id": "5e6d85f8",
   "metadata": {},
   "source": [
    "Print the fist 5 rows of data\n"
   ]
  },
  {
   "cell_type": "code",
   "execution_count": 2,
   "id": "6b680b87",
   "metadata": {},
   "outputs": [
    {
     "data": {
      "text/html": [
       "<div>\n",
       "<style scoped>\n",
       "    .dataframe tbody tr th:only-of-type {\n",
       "        vertical-align: middle;\n",
       "    }\n",
       "\n",
       "    .dataframe tbody tr th {\n",
       "        vertical-align: top;\n",
       "    }\n",
       "\n",
       "    .dataframe thead th {\n",
       "        text-align: right;\n",
       "    }\n",
       "</style>\n",
       "<table border=\"1\" class=\"dataframe\">\n",
       "  <thead>\n",
       "    <tr style=\"text-align: right;\">\n",
       "      <th></th>\n",
       "      <th>Date</th>\n",
       "      <th>Open</th>\n",
       "      <th>High</th>\n",
       "      <th>Low</th>\n",
       "      <th>Close</th>\n",
       "      <th>Volume</th>\n",
       "      <th>Dividends</th>\n",
       "      <th>Stock Splits</th>\n",
       "    </tr>\n",
       "  </thead>\n",
       "  <tbody>\n",
       "    <tr>\n",
       "      <th>0</th>\n",
       "      <td>2020-09-08 00:00:00-04:00</td>\n",
       "      <td>39.480000</td>\n",
       "      <td>39.590000</td>\n",
       "      <td>36.130001</td>\n",
       "      <td>36.759998</td>\n",
       "      <td>720975</td>\n",
       "      <td>0.0</td>\n",
       "      <td>0.0</td>\n",
       "    </tr>\n",
       "    <tr>\n",
       "      <th>1</th>\n",
       "      <td>2020-09-09 00:00:00-04:00</td>\n",
       "      <td>36.790001</td>\n",
       "      <td>38.450001</td>\n",
       "      <td>36.160000</td>\n",
       "      <td>38.049999</td>\n",
       "      <td>455356</td>\n",
       "      <td>0.0</td>\n",
       "      <td>0.0</td>\n",
       "    </tr>\n",
       "    <tr>\n",
       "      <th>2</th>\n",
       "      <td>2020-09-10 00:00:00-04:00</td>\n",
       "      <td>37.799999</td>\n",
       "      <td>38.180000</td>\n",
       "      <td>36.930000</td>\n",
       "      <td>37.299999</td>\n",
       "      <td>367555</td>\n",
       "      <td>0.0</td>\n",
       "      <td>0.0</td>\n",
       "    </tr>\n",
       "    <tr>\n",
       "      <th>3</th>\n",
       "      <td>2020-09-11 00:00:00-04:00</td>\n",
       "      <td>37.009998</td>\n",
       "      <td>37.820000</td>\n",
       "      <td>36.669998</td>\n",
       "      <td>37.330002</td>\n",
       "      <td>363787</td>\n",
       "      <td>0.0</td>\n",
       "      <td>0.0</td>\n",
       "    </tr>\n",
       "    <tr>\n",
       "      <th>4</th>\n",
       "      <td>2020-09-14 00:00:00-04:00</td>\n",
       "      <td>37.320000</td>\n",
       "      <td>37.680000</td>\n",
       "      <td>36.820000</td>\n",
       "      <td>37.259998</td>\n",
       "      <td>347563</td>\n",
       "      <td>0.0</td>\n",
       "      <td>0.0</td>\n",
       "    </tr>\n",
       "  </tbody>\n",
       "</table>\n",
       "</div>"
      ],
      "text/plain": [
       "                       Date       Open       High        Low      Close  \\\n",
       "0 2020-09-08 00:00:00-04:00  39.480000  39.590000  36.130001  36.759998   \n",
       "1 2020-09-09 00:00:00-04:00  36.790001  38.450001  36.160000  38.049999   \n",
       "2 2020-09-10 00:00:00-04:00  37.799999  38.180000  36.930000  37.299999   \n",
       "3 2020-09-11 00:00:00-04:00  37.009998  37.820000  36.669998  37.330002   \n",
       "4 2020-09-14 00:00:00-04:00  37.320000  37.680000  36.820000  37.259998   \n",
       "\n",
       "   Volume  Dividends  Stock Splits  \n",
       "0  720975        0.0           0.0  \n",
       "1  455356        0.0           0.0  \n",
       "2  367555        0.0           0.0  \n",
       "3  363787        0.0           0.0  \n",
       "4  347563        0.0           0.0  "
      ]
     },
     "execution_count": 2,
     "metadata": {},
     "output_type": "execute_result"
    }
   ],
   "source": [
    "df_oil.head()"
   ]
  },
  {
   "cell_type": "markdown",
   "id": "01b525c2",
   "metadata": {},
   "source": [
    "Saving the data as csv in data/raw folder"
   ]
  },
  {
   "cell_type": "code",
   "execution_count": 7,
   "id": "2e637217",
   "metadata": {},
   "outputs": [],
   "source": [
    "df_oil.to_csv('/Users/phoenix/Projects/alberta-economic-dashboard/data/raw/oil_prices.csv', index=False)"
   ]
  }
 ],
 "metadata": {
  "kernelspec": {
   "display_name": "Python 3 (ipykernel)",
   "language": "python",
   "name": "python3"
  },
  "language_info": {
   "codemirror_mode": {
    "name": "ipython",
    "version": 3
   },
   "file_extension": ".py",
   "mimetype": "text/x-python",
   "name": "python",
   "nbconvert_exporter": "python",
   "pygments_lexer": "ipython3",
   "version": "3.13.7"
  }
 },
 "nbformat": 4,
 "nbformat_minor": 5
}
