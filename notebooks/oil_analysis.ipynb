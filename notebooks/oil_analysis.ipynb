{
 "cells": [
  {
   "cell_type": "markdown",
   "id": "1c97158a",
   "metadata": {},
   "source": [
    "# Cleaning the oil trends data \n"
   ]
  },
  {
   "cell_type": "code",
   "execution_count": 1,
   "id": "84ff531d",
   "metadata": {},
   "outputs": [],
   "source": [
    "import pandas as pd\n",
    "import numpy as np\n",
    "import matplotlib.pyplot as plt"
   ]
  },
  {
   "cell_type": "markdown",
   "id": "3f3b95e4",
   "metadata": {},
   "source": [
    "Load the csv file and load the fist 5 rows"
   ]
  },
  {
   "cell_type": "code",
   "execution_count": 2,
   "id": "86afe3e4",
   "metadata": {},
   "outputs": [
    {
     "data": {
      "text/html": [
       "<div>\n",
       "<style scoped>\n",
       "    .dataframe tbody tr th:only-of-type {\n",
       "        vertical-align: middle;\n",
       "    }\n",
       "\n",
       "    .dataframe tbody tr th {\n",
       "        vertical-align: top;\n",
       "    }\n",
       "\n",
       "    .dataframe thead th {\n",
       "        text-align: right;\n",
       "    }\n",
       "</style>\n",
       "<table border=\"1\" class=\"dataframe\">\n",
       "  <thead>\n",
       "    <tr style=\"text-align: right;\">\n",
       "      <th></th>\n",
       "      <th>Date</th>\n",
       "      <th>Open</th>\n",
       "      <th>High</th>\n",
       "      <th>Low</th>\n",
       "      <th>Close</th>\n",
       "      <th>Volume</th>\n",
       "      <th>Dividends</th>\n",
       "      <th>Stock Splits</th>\n",
       "    </tr>\n",
       "  </thead>\n",
       "  <tbody>\n",
       "    <tr>\n",
       "      <th>0</th>\n",
       "      <td>2020-09-08 00:00:00-04:00</td>\n",
       "      <td>39.480000</td>\n",
       "      <td>39.590000</td>\n",
       "      <td>36.130001</td>\n",
       "      <td>36.759998</td>\n",
       "      <td>720975</td>\n",
       "      <td>0.0</td>\n",
       "      <td>0.0</td>\n",
       "    </tr>\n",
       "    <tr>\n",
       "      <th>1</th>\n",
       "      <td>2020-09-09 00:00:00-04:00</td>\n",
       "      <td>36.790001</td>\n",
       "      <td>38.450001</td>\n",
       "      <td>36.160000</td>\n",
       "      <td>38.049999</td>\n",
       "      <td>455356</td>\n",
       "      <td>0.0</td>\n",
       "      <td>0.0</td>\n",
       "    </tr>\n",
       "    <tr>\n",
       "      <th>2</th>\n",
       "      <td>2020-09-10 00:00:00-04:00</td>\n",
       "      <td>37.799999</td>\n",
       "      <td>38.180000</td>\n",
       "      <td>36.930000</td>\n",
       "      <td>37.299999</td>\n",
       "      <td>367555</td>\n",
       "      <td>0.0</td>\n",
       "      <td>0.0</td>\n",
       "    </tr>\n",
       "    <tr>\n",
       "      <th>3</th>\n",
       "      <td>2020-09-11 00:00:00-04:00</td>\n",
       "      <td>37.009998</td>\n",
       "      <td>37.820000</td>\n",
       "      <td>36.669998</td>\n",
       "      <td>37.330002</td>\n",
       "      <td>363787</td>\n",
       "      <td>0.0</td>\n",
       "      <td>0.0</td>\n",
       "    </tr>\n",
       "    <tr>\n",
       "      <th>4</th>\n",
       "      <td>2020-09-14 00:00:00-04:00</td>\n",
       "      <td>37.320000</td>\n",
       "      <td>37.680000</td>\n",
       "      <td>36.820000</td>\n",
       "      <td>37.259998</td>\n",
       "      <td>347563</td>\n",
       "      <td>0.0</td>\n",
       "      <td>0.0</td>\n",
       "    </tr>\n",
       "  </tbody>\n",
       "</table>\n",
       "</div>"
      ],
      "text/plain": [
       "                        Date       Open       High        Low      Close  \\\n",
       "0  2020-09-08 00:00:00-04:00  39.480000  39.590000  36.130001  36.759998   \n",
       "1  2020-09-09 00:00:00-04:00  36.790001  38.450001  36.160000  38.049999   \n",
       "2  2020-09-10 00:00:00-04:00  37.799999  38.180000  36.930000  37.299999   \n",
       "3  2020-09-11 00:00:00-04:00  37.009998  37.820000  36.669998  37.330002   \n",
       "4  2020-09-14 00:00:00-04:00  37.320000  37.680000  36.820000  37.259998   \n",
       "\n",
       "   Volume  Dividends  Stock Splits  \n",
       "0  720975        0.0           0.0  \n",
       "1  455356        0.0           0.0  \n",
       "2  367555        0.0           0.0  \n",
       "3  363787        0.0           0.0  \n",
       "4  347563        0.0           0.0  "
      ]
     },
     "execution_count": 2,
     "metadata": {},
     "output_type": "execute_result"
    }
   ],
   "source": [
    "df = pd.read_csv('/Users/phoenix/Projects/alberta-economic-dashboard/data/raw/oil_prices.csv')\n",
    "df.head()"
   ]
  },
  {
   "cell_type": "code",
   "execution_count": 3,
   "id": "b705a1a6",
   "metadata": {},
   "outputs": [
    {
     "name": "stdout",
     "output_type": "stream",
     "text": [
      "<class 'pandas.core.frame.DataFrame'>\n",
      "RangeIndex: 1257 entries, 0 to 1256\n",
      "Data columns (total 8 columns):\n",
      " #   Column        Non-Null Count  Dtype  \n",
      "---  ------        --------------  -----  \n",
      " 0   Date          1257 non-null   object \n",
      " 1   Open          1257 non-null   float64\n",
      " 2   High          1257 non-null   float64\n",
      " 3   Low           1257 non-null   float64\n",
      " 4   Close         1257 non-null   float64\n",
      " 5   Volume        1257 non-null   int64  \n",
      " 6   Dividends     1257 non-null   float64\n",
      " 7   Stock Splits  1257 non-null   float64\n",
      "dtypes: float64(6), int64(1), object(1)\n",
      "memory usage: 78.7+ KB\n"
     ]
    },
    {
     "data": {
      "text/html": [
       "<div>\n",
       "<style scoped>\n",
       "    .dataframe tbody tr th:only-of-type {\n",
       "        vertical-align: middle;\n",
       "    }\n",
       "\n",
       "    .dataframe tbody tr th {\n",
       "        vertical-align: top;\n",
       "    }\n",
       "\n",
       "    .dataframe thead th {\n",
       "        text-align: right;\n",
       "    }\n",
       "</style>\n",
       "<table border=\"1\" class=\"dataframe\">\n",
       "  <thead>\n",
       "    <tr style=\"text-align: right;\">\n",
       "      <th></th>\n",
       "      <th>Open</th>\n",
       "      <th>High</th>\n",
       "      <th>Low</th>\n",
       "      <th>Close</th>\n",
       "      <th>Volume</th>\n",
       "      <th>Dividends</th>\n",
       "      <th>Stock Splits</th>\n",
       "    </tr>\n",
       "  </thead>\n",
       "  <tbody>\n",
       "    <tr>\n",
       "      <th>count</th>\n",
       "      <td>1257.000000</td>\n",
       "      <td>1257.000000</td>\n",
       "      <td>1257.000000</td>\n",
       "      <td>1257.000000</td>\n",
       "      <td>1257.000000</td>\n",
       "      <td>1257.0</td>\n",
       "      <td>1257.0</td>\n",
       "    </tr>\n",
       "    <tr>\n",
       "      <th>mean</th>\n",
       "      <td>74.948862</td>\n",
       "      <td>76.236730</td>\n",
       "      <td>73.576627</td>\n",
       "      <td>74.924320</td>\n",
       "      <td>330511.502784</td>\n",
       "      <td>0.0</td>\n",
       "      <td>0.0</td>\n",
       "    </tr>\n",
       "    <tr>\n",
       "      <th>std</th>\n",
       "      <td>15.083747</td>\n",
       "      <td>15.497876</td>\n",
       "      <td>14.587589</td>\n",
       "      <td>15.016218</td>\n",
       "      <td>122501.919239</td>\n",
       "      <td>0.0</td>\n",
       "      <td>0.0</td>\n",
       "    </tr>\n",
       "    <tr>\n",
       "      <th>min</th>\n",
       "      <td>35.240002</td>\n",
       "      <td>36.599998</td>\n",
       "      <td>33.639999</td>\n",
       "      <td>35.790001</td>\n",
       "      <td>0.000000</td>\n",
       "      <td>0.0</td>\n",
       "      <td>0.0</td>\n",
       "    </tr>\n",
       "    <tr>\n",
       "      <th>25%</th>\n",
       "      <td>67.959999</td>\n",
       "      <td>68.959999</td>\n",
       "      <td>66.610001</td>\n",
       "      <td>67.699997</td>\n",
       "      <td>270223.000000</td>\n",
       "      <td>0.0</td>\n",
       "      <td>0.0</td>\n",
       "    </tr>\n",
       "    <tr>\n",
       "      <th>50%</th>\n",
       "      <td>74.209999</td>\n",
       "      <td>75.570000</td>\n",
       "      <td>72.980003</td>\n",
       "      <td>74.080002</td>\n",
       "      <td>328153.000000</td>\n",
       "      <td>0.0</td>\n",
       "      <td>0.0</td>\n",
       "    </tr>\n",
       "    <tr>\n",
       "      <th>75%</th>\n",
       "      <td>81.860001</td>\n",
       "      <td>83.080002</td>\n",
       "      <td>80.809998</td>\n",
       "      <td>81.910004</td>\n",
       "      <td>393953.000000</td>\n",
       "      <td>0.0</td>\n",
       "      <td>0.0</td>\n",
       "    </tr>\n",
       "    <tr>\n",
       "      <th>max</th>\n",
       "      <td>124.660004</td>\n",
       "      <td>130.500000</td>\n",
       "      <td>120.790001</td>\n",
       "      <td>123.699997</td>\n",
       "      <td>872244.000000</td>\n",
       "      <td>0.0</td>\n",
       "      <td>0.0</td>\n",
       "    </tr>\n",
       "  </tbody>\n",
       "</table>\n",
       "</div>"
      ],
      "text/plain": [
       "              Open         High          Low        Close         Volume  \\\n",
       "count  1257.000000  1257.000000  1257.000000  1257.000000    1257.000000   \n",
       "mean     74.948862    76.236730    73.576627    74.924320  330511.502784   \n",
       "std      15.083747    15.497876    14.587589    15.016218  122501.919239   \n",
       "min      35.240002    36.599998    33.639999    35.790001       0.000000   \n",
       "25%      67.959999    68.959999    66.610001    67.699997  270223.000000   \n",
       "50%      74.209999    75.570000    72.980003    74.080002  328153.000000   \n",
       "75%      81.860001    83.080002    80.809998    81.910004  393953.000000   \n",
       "max     124.660004   130.500000   120.790001   123.699997  872244.000000   \n",
       "\n",
       "       Dividends  Stock Splits  \n",
       "count     1257.0        1257.0  \n",
       "mean         0.0           0.0  \n",
       "std          0.0           0.0  \n",
       "min          0.0           0.0  \n",
       "25%          0.0           0.0  \n",
       "50%          0.0           0.0  \n",
       "75%          0.0           0.0  \n",
       "max          0.0           0.0  "
      ]
     },
     "execution_count": 3,
     "metadata": {},
     "output_type": "execute_result"
    }
   ],
   "source": [
    "df.info()\n",
    "df.describe()"
   ]
  },
  {
   "cell_type": "code",
   "execution_count": 4,
   "id": "f9d230ce",
   "metadata": {},
   "outputs": [
    {
     "name": "stderr",
     "output_type": "stream",
     "text": [
      "/var/folders/gd/2q_k8vh54858ylt51bw8mmnr0000gn/T/ipykernel_9817/3645508194.py:2: FutureWarning: In a future version of pandas, parsing datetimes with mixed time zones will raise an error unless `utc=True`. Please specify `utc=True` to opt in to the new behaviour and silence this warning. To create a `Series` with mixed offsets and `object` dtype, please use `apply` and `datetime.datetime.strptime`\n",
      "  df['Date'] = pd.to_datetime(df['Date'])\n"
     ]
    },
    {
     "data": {
      "text/plain": [
       "Date            0\n",
       "Open            0\n",
       "High            0\n",
       "Low             0\n",
       "Close           0\n",
       "Volume          0\n",
       "Dividends       0\n",
       "Stock Splits    0\n",
       "dtype: int64"
      ]
     },
     "execution_count": 4,
     "metadata": {},
     "output_type": "execute_result"
    }
   ],
   "source": [
    "# Convert 'Date' column to datetime type\n",
    "df['Date'] = pd.to_datetime(df['Date'])\n",
    "\n",
    "# Sort by date ascending\n",
    "df = df.sort_values('Date')\n",
    "\n",
    "# Check for missing values\n",
    "df.isnull().sum()\n"
   ]
  },
  {
   "cell_type": "code",
   "execution_count": 5,
   "id": "04d0095d",
   "metadata": {},
   "outputs": [
    {
     "data": {
      "image/png": "[encoded data removed]",
      "text/plain": [
       "<Figure size 1200x600 with 1 Axes>"
      ]
     },
     "metadata": {},
     "output_type": "display_data"
    }
   ],
   "source": [
    "plt.figure(figsize=(12,6))\n",
    "plt.plot(df['Date'], df['Close'])  # 'Close' = column with price, adjust if needed\n",
    "plt.title(\"Alberta Oil Price Trend\")\n",
    "plt.xlabel(\"Date\")\n",
    "plt.ylabel(\"Price (USD)\")\n",
    "plt.grid(True)\n",
    "plt.show()\n"
   ]
  },
  {
   "cell_type": "code",
   "execution_count": 7,
   "id": "188b9027",
   "metadata": {},
   "outputs": [],
   "source": [
    "# Save cleaned data\n",
    "df.to_csv('/Users/phoenix/Projects/alberta-economic-dashboard/data/processed/oil_prices_cleaned.csv', index=False)\n"
   ]
  }
 ],
 "metadata": {
  "kernelspec": {
   "display_name": "Python 3 (ipykernel)",
   "language": "python",
   "name": "python3"
  },
  "language_info": {
   "codemirror_mode": {
    "name": "ipython",
    "version": 3
   },
   "file_extension": ".py",
   "mimetype": "text/x-python",
   "name": "python",
   "nbconvert_exporter": "python",
   "pygments_lexer": "ipython3",
   "version": "3.13.7"
  }
 },
 "nbformat": 4,
 "nbformat_minor": 5
}
